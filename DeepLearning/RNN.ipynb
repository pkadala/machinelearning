{
 "cells": [
  {
   "cell_type": "code",
   "execution_count": 1,
   "metadata": {},
   "outputs": [],
   "source": [
    "import numpy as np\n",
    "import matplotlib.pyplot as plt\n",
    "import pandas as pd\n",
    "from tensorflow.keras.models import Sequential\n",
    "from tensorflow.keras.layers import Dense, LSTM,GRU,SimpleRNN\n",
    "from sklearn.preprocessing import MinMaxScaler"
   ]
  },
  {
   "cell_type": "code",
   "execution_count": 2,
   "metadata": {},
   "outputs": [
    {
     "data": {
      "text/plain": [
       "array([[112],\n",
       "       [118],\n",
       "       [132],\n",
       "       [129],\n",
       "       [121],\n",
       "       [135],\n",
       "       [148],\n",
       "       [148],\n",
       "       [136],\n",
       "       [119],\n",
       "       [104],\n",
       "       [118],\n",
       "       [115],\n",
       "       [126],\n",
       "       [141],\n",
       "       [135],\n",
       "       [125],\n",
       "       [149],\n",
       "       [170],\n",
       "       [170],\n",
       "       [158],\n",
       "       [133],\n",
       "       [114],\n",
       "       [140],\n",
       "       [145],\n",
       "       [150],\n",
       "       [178],\n",
       "       [163],\n",
       "       [172],\n",
       "       [178],\n",
       "       [199],\n",
       "       [199],\n",
       "       [184],\n",
       "       [162],\n",
       "       [146],\n",
       "       [166],\n",
       "       [171],\n",
       "       [180],\n",
       "       [193],\n",
       "       [181],\n",
       "       [183],\n",
       "       [218],\n",
       "       [230],\n",
       "       [242],\n",
       "       [209],\n",
       "       [191],\n",
       "       [172],\n",
       "       [194],\n",
       "       [196],\n",
       "       [196],\n",
       "       [236],\n",
       "       [235],\n",
       "       [229],\n",
       "       [243],\n",
       "       [264],\n",
       "       [272],\n",
       "       [237],\n",
       "       [211],\n",
       "       [180],\n",
       "       [201],\n",
       "       [204],\n",
       "       [188],\n",
       "       [235],\n",
       "       [227],\n",
       "       [234],\n",
       "       [264],\n",
       "       [302],\n",
       "       [293],\n",
       "       [259],\n",
       "       [229],\n",
       "       [203],\n",
       "       [229],\n",
       "       [242],\n",
       "       [233],\n",
       "       [267],\n",
       "       [269],\n",
       "       [270],\n",
       "       [315],\n",
       "       [364],\n",
       "       [347],\n",
       "       [312],\n",
       "       [274],\n",
       "       [237],\n",
       "       [278],\n",
       "       [284],\n",
       "       [277],\n",
       "       [317],\n",
       "       [313],\n",
       "       [318],\n",
       "       [374],\n",
       "       [413],\n",
       "       [405],\n",
       "       [355],\n",
       "       [306],\n",
       "       [271],\n",
       "       [306],\n",
       "       [315],\n",
       "       [301],\n",
       "       [356],\n",
       "       [348],\n",
       "       [355],\n",
       "       [422],\n",
       "       [465],\n",
       "       [467],\n",
       "       [404],\n",
       "       [347],\n",
       "       [305],\n",
       "       [336],\n",
       "       [340],\n",
       "       [318],\n",
       "       [362],\n",
       "       [348],\n",
       "       [363],\n",
       "       [435],\n",
       "       [491],\n",
       "       [505],\n",
       "       [404],\n",
       "       [359],\n",
       "       [310],\n",
       "       [337],\n",
       "       [360],\n",
       "       [342],\n",
       "       [406],\n",
       "       [396],\n",
       "       [420],\n",
       "       [472],\n",
       "       [548],\n",
       "       [559],\n",
       "       [463],\n",
       "       [407],\n",
       "       [362],\n",
       "       [405],\n",
       "       [417],\n",
       "       [391],\n",
       "       [419],\n",
       "       [461],\n",
       "       [472],\n",
       "       [535],\n",
       "       [622],\n",
       "       [606],\n",
       "       [508],\n",
       "       [461],\n",
       "       [390],\n",
       "       [432]])"
      ]
     },
     "execution_count": 2,
     "metadata": {},
     "output_type": "execute_result"
    }
   ],
   "source": [
    "df = pd.read_csv('airline-passengers.csv')\n",
    "df.head()\n",
    "df.drop(['Month'],axis=1,inplace=True)\n",
    "dataset = np.array(df)\n",
    "dataset.reshape(-1,1)"
   ]
  },
  {
   "cell_type": "code",
   "execution_count": 3,
   "metadata": {},
   "outputs": [
    {
     "data": {
      "text/plain": [
       "[<matplotlib.lines.Line2D at 0x7fb4dab46978>]"
      ]
     },
     "execution_count": 3,
     "metadata": {},
     "output_type": "execute_result"
    },
    {
     "data": {
      "image/png": "[encoded data removed]",
      "text/plain": [
       "<Figure size 432x288 with 1 Axes>"
      ]
     },
     "metadata": {
      "needs_background": "light"
     },
     "output_type": "display_data"
    }
   ],
   "source": [
    "plt.plot(dataset)"
   ]
  },
  {
   "cell_type": "code",
   "execution_count": 4,
   "metadata": {},
   "outputs": [
    {
     "name": "stderr",
     "output_type": "stream",
     "text": [
      "/Library/Frameworks/Python.framework/Versions/3.7/lib/python3.7/site-packages/sklearn/utils/validation.py:595: DataConversionWarning: Data with input dtype int64 was converted to float64 by MinMaxScaler.\n",
      "  warnings.warn(msg, DataConversionWarning)\n"
     ]
    }
   ],
   "source": [
    "scaler = MinMaxScaler()\n",
    "dataset = scaler.fit_transform(dataset)"
   ]
  },
  {
   "cell_type": "code",
   "execution_count": 12,
   "metadata": {},
   "outputs": [],
   "source": [
    "train_size = int(len(dataset) * 0.75)\n",
    "test_size = len(dataset) - train_size\n",
    "train = dataset[:train_size,:]\n",
    "test = dataset[train_size:142,:]\n",
    "\n",
    "def getdata(data,lookback):\n",
    "    X,Y=[],[]\n",
    "    for i in range(len(data)-lookback-1):\n",
    "        X.append(data[i:i+lookback,0])\n",
    "        Y.append(data[i+lookback,0])\n",
    "    return np.array(X),np.array(Y).reshape(-1,1)\n"
   ]
  },
  {
   "cell_type": "code",
   "execution_count": 14,
   "metadata": {},
   "outputs": [
    {
     "name": "stdout",
     "output_type": "stream",
     "text": [
      "1\n",
      "1\n"
     ]
    }
   ],
   "source": [
    "lookback = 1\n",
    "X_train,y_train = getdata(train,lookback)\n",
    "print(lookback)\n",
    "X_test,y_test = getdata(test,lookback)\n",
    "print(lookback)\n",
    "X_train = X_train.reshape(X_train.shape[0],X_train.shape[1],1)\n",
    "X_test = X_test.reshape(X_test.shape[0],X_test.shape[1],1)"
   ]
  },
  {
   "cell_type": "code",
   "execution_count": 15,
   "metadata": {},
   "outputs": [
    {
     "name": "stdout",
     "output_type": "stream",
     "text": [
      "1\n",
      "Model: \"sequential_2\"\n",
      "_________________________________________________________________\n",
      "Layer (type)                 Output Shape              Param #   \n",
      "=================================================================\n",
      "lstm_2 (LSTM)                (None, 5)                 140       \n",
      "_________________________________________________________________\n",
      "dense_2 (Dense)              (None, 1)                 6         \n",
      "=================================================================\n",
      "Total params: 146\n",
      "Trainable params: 146\n",
      "Non-trainable params: 0\n",
      "_________________________________________________________________\n"
     ]
    }
   ],
   "source": [
    "print(lookback)\n",
    "model=Sequential()\n",
    "model.add(LSTM(5,input_shape=(1,lookback)))\n",
    "model.add(Dense(1))\n",
    "model.compile(loss='mean_squared_error',optimizer='adam')\n",
    "model.summary()"
   ]
  },
  {
   "cell_type": "code",
   "execution_count": 8,
   "metadata": {},
   "outputs": [
    {
     "name": "stdout",
     "output_type": "stream",
     "text": [
      "Epoch 1/50\n",
      "106/106 [==============================] - 1s 1ms/step - loss: 0.0949\n",
      "Epoch 2/50\n",
      "106/106 [==============================] - 0s 1ms/step - loss: 0.0361\n",
      "Epoch 3/50\n",
      "106/106 [==============================] - 0s 1ms/step - loss: 0.0294\n",
      "Epoch 4/50\n",
      "106/106 [==============================] - 0s 1ms/step - loss: 0.0251\n",
      "Epoch 5/50\n",
      "106/106 [==============================] - 0s 1ms/step - loss: 0.0205\n",
      "Epoch 6/50\n",
      "106/106 [==============================] - 0s 1ms/step - loss: 0.0201\n",
      "Epoch 7/50\n",
      "106/106 [==============================] - 0s 1ms/step - loss: 0.0188\n",
      "Epoch 8/50\n",
      "106/106 [==============================] - 0s 1ms/step - loss: 0.0186\n",
      "Epoch 9/50\n",
      "106/106 [==============================] - 0s 1ms/step - loss: 0.0129\n",
      "Epoch 10/50\n",
      "106/106 [==============================] - 0s 1ms/step - loss: 0.0127\n",
      "Epoch 11/50\n",
      "106/106 [==============================] - 0s 1ms/step - loss: 0.0102\n",
      "Epoch 12/50\n",
      "106/106 [==============================] - 0s 1ms/step - loss: 0.0092\n",
      "Epoch 13/50\n",
      "106/106 [==============================] - 0s 1ms/step - loss: 0.0063\n",
      "Epoch 14/50\n",
      "106/106 [==============================] - 0s 1ms/step - loss: 0.0056\n",
      "Epoch 15/50\n",
      "106/106 [==============================] - 0s 1ms/step - loss: 0.0067\n",
      "Epoch 16/50\n",
      "106/106 [==============================] - 0s 1ms/step - loss: 0.0042\n",
      "Epoch 17/50\n",
      "106/106 [==============================] - 0s 1ms/step - loss: 0.0036\n",
      "Epoch 18/50\n",
      "106/106 [==============================] - 0s 1ms/step - loss: 0.0033\n",
      "Epoch 19/50\n",
      "106/106 [==============================] - 0s 1ms/step - loss: 0.0033\n",
      "Epoch 20/50\n",
      "106/106 [==============================] - 0s 984us/step - loss: 0.0026\n",
      "Epoch 21/50\n",
      "106/106 [==============================] - 0s 1ms/step - loss: 0.0024\n",
      "Epoch 22/50\n",
      "106/106 [==============================] - 0s 1ms/step - loss: 0.0023\n",
      "Epoch 23/50\n",
      "106/106 [==============================] - 0s 1ms/step - loss: 0.0028\n",
      "Epoch 24/50\n",
      "106/106 [==============================] - 0s 2ms/step - loss: 0.0023\n",
      "Epoch 25/50\n",
      "106/106 [==============================] - 0s 2ms/step - loss: 0.0020\n",
      "Epoch 26/50\n",
      "106/106 [==============================] - 0s 2ms/step - loss: 0.0026\n",
      "Epoch 27/50\n",
      "106/106 [==============================] - 0s 1ms/step - loss: 0.0026\n",
      "Epoch 28/50\n",
      "106/106 [==============================] - 0s 1ms/step - loss: 0.0023\n",
      "Epoch 29/50\n",
      "106/106 [==============================] - 0s 2ms/step - loss: 0.0025\n",
      "Epoch 30/50\n",
      "106/106 [==============================] - 0s 2ms/step - loss: 0.0020\n",
      "Epoch 31/50\n",
      "106/106 [==============================] - 0s 1ms/step - loss: 0.0021\n",
      "Epoch 32/50\n",
      "106/106 [==============================] - 0s 1ms/step - loss: 0.0021\n",
      "Epoch 33/50\n",
      "106/106 [==============================] - 0s 1ms/step - loss: 0.0024\n",
      "Epoch 34/50\n",
      "106/106 [==============================] - 0s 1ms/step - loss: 0.0025\n",
      "Epoch 35/50\n",
      "106/106 [==============================] - 0s 1ms/step - loss: 0.0023\n",
      "Epoch 36/50\n",
      "106/106 [==============================] - 0s 2ms/step - loss: 0.0029\n",
      "Epoch 37/50\n",
      "106/106 [==============================] - 0s 923us/step - loss: 0.0020\n",
      "Epoch 38/50\n",
      "106/106 [==============================] - 0s 886us/step - loss: 0.0020\n",
      "Epoch 39/50\n",
      "106/106 [==============================] - 0s 1ms/step - loss: 0.0023\n",
      "Epoch 40/50\n",
      "106/106 [==============================] - 0s 946us/step - loss: 0.0026\n",
      "Epoch 41/50\n",
      "106/106 [==============================] - 0s 2ms/step - loss: 0.0028\n",
      "Epoch 42/50\n",
      "106/106 [==============================] - 0s 1ms/step - loss: 0.0026\n",
      "Epoch 43/50\n",
      "106/106 [==============================] - 0s 892us/step - loss: 0.0021\n",
      "Epoch 44/50\n",
      "106/106 [==============================] - 0s 968us/step - loss: 0.0027\n",
      "Epoch 45/50\n",
      "106/106 [==============================] - 0s 950us/step - loss: 0.0026\n",
      "Epoch 46/50\n",
      "106/106 [==============================] - 0s 923us/step - loss: 0.0021\n",
      "Epoch 47/50\n",
      "106/106 [==============================] - 0s 997us/step - loss: 0.0021\n",
      "Epoch 48/50\n",
      "106/106 [==============================] - 0s 1ms/step - loss: 0.0025\n",
      "Epoch 49/50\n",
      "106/106 [==============================] - 0s 1ms/step - loss: 0.0024\n",
      "Epoch 50/50\n",
      "106/106 [==============================] - 0s 1ms/step - loss: 0.0024\n"
     ]
    }
   ],
   "source": [
    "model.fit(X_train, y_train, epochs=50, batch_size=1)\n",
    "y_pred=model.predict(X_test)\n",
    "y_test=scaler.inverse_transform(y_test)\n",
    "y_pred=scaler.inverse_transform(y_pred)"
   ]
  },
  {
   "cell_type": "code",
   "execution_count": 9,
   "metadata": {},
   "outputs": [
    {
     "data": {
      "image/png": "[encoded data removed]",
      "text/plain": [
       "<Figure size 1008x360 with 1 Axes>"
      ]
     },
     "metadata": {
      "needs_background": "light"
     },
     "output_type": "display_data"
    }
   ],
   "source": [
    "plt.figure(figsize=(14,5))\n",
    "plt.plot(y_test, label = 'Real number of passengers')\n",
    "plt.plot(y_pred, label = 'Predicted number of passengers')\n",
    "plt.ylabel('# passengers')\n",
    "plt.legend()\n",
    "plt.show()"
   ]
  },
  {
   "cell_type": "code",
   "execution_count": 10,
   "metadata": {},
   "outputs": [
    {
     "data": {
      "text/plain": [
       "2440.4652122692205"
      ]
     },
     "execution_count": 10,
     "metadata": {},
     "output_type": "execute_result"
    }
   ],
   "source": [
    "from sklearn.metrics import mean_squared_error\n",
    "mean_squared_error(y_test,y_pred)"
   ]
  },
  {
   "cell_type": "code",
   "execution_count": null,
   "metadata": {},
   "outputs": [],
   "source": []
  }
 ],
 "metadata": {
  "kernelspec": {
   "display_name": "Python 3",
   "language": "python",
   "name": "python3"
  },
  "language_info": {
   "codemirror_mode": {
    "name": "ipython",
    "version": 3
   },
   "file_extension": ".py",
   "mimetype": "text/x-python",
   "name": "python",
   "nbconvert_exporter": "python",
   "pygments_lexer": "ipython3",
   "version": "3.7.2"
  }
 },
 "nbformat": 4,
 "nbformat_minor": 2
}
