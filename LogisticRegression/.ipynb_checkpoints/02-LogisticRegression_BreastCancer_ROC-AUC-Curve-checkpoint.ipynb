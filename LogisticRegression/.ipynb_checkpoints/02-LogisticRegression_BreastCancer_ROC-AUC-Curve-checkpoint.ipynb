{
 "cells": [
  {
   "cell_type": "code",
   "execution_count": null,
   "metadata": {},
   "outputs": [],
   "source": [
    "import numpy as np\n",
    "import matplotlib.pyplot as plt \n",
    "\n",
    "import pandas as pd  \n",
    "import seaborn as sns \n",
    "\n",
    "%matplotlib inline"
   ]
  },
  {
   "cell_type": "code",
   "execution_count": null,
   "metadata": {},
   "outputs": [],
   "source": [
    "from sklearn.datasets import load_breast_cancer\n",
    "\n",
    "cancer_dataset = load_breast_cancer()\n",
    "cancer_dataset.keys()\n",
    "\n",
    "df = pd.DataFrame(cancer_dataset.data, columns=[cancer_dataset.feature_names])\n",
    "df = df.assign(target=pd.Series(cancer_dataset.target))\n",
    "df.head()\n",
    "df.describe()"
   ]
  },
  {
   "cell_type": "code",
   "execution_count": null,
   "metadata": {},
   "outputs": [],
   "source": [
    "# count number of obvs in each class\n",
    "pd.Series(cancer_dataset.target).value_counts()\n"
   ]
  },
  {
   "cell_type": "code",
   "execution_count": null,
   "metadata": {},
   "outputs": [],
   "source": [
    "X = cancer_dataset[\"data\"]\n",
    "Y = cancer_dataset[\"target\"]"
   ]
  },
  {
   "cell_type": "code",
   "execution_count": null,
   "metadata": {},
   "outputs": [],
   "source": [
    "from sklearn.model_selection import train_test_split\n",
    "\n",
    "X_train, X_test, Y_train, Y_test = train_test_split(X, Y, test_size = 0.2)\n",
    "print(X_train.shape)\n",
    "print(X_test.shape)\n",
    "print(Y_train.shape)\n",
    "print(Y_test.shape)\n",
    "\n",
    "#pd.Series(Y_test).value_counts()"
   ]
  },
  {
   "cell_type": "code",
   "execution_count": null,
   "metadata": {},
   "outputs": [],
   "source": [
    "from sklearn.linear_model import LogisticRegression\n",
    "\n",
    "model = LogisticRegression(random_state=42)\n",
    "model.fit(X_train, Y_train)"
   ]
  },
  {
   "cell_type": "code",
   "execution_count": null,
   "metadata": {},
   "outputs": [],
   "source": [
    "predictions = model.predict(X_test)"
   ]
  },
  {
   "cell_type": "code",
   "execution_count": null,
   "metadata": {},
   "outputs": [],
   "source": [
    "from sklearn import metrics\n",
    "\n",
    "print('\\nConfusion Matrix:')\n",
    "metrics.confusion_matrix(Y_test, predictions)"
   ]
  },
  {
   "cell_type": "code",
   "execution_count": null,
   "metadata": {},
   "outputs": [],
   "source": [
    "from sklearn import metrics\n",
    "\n",
    "print('Accuracy Score:', metrics.accuracy_score(Y_test, predictions))\n",
    "print('Precision Score:', metrics.precision_score(Y_test, predictions))\n",
    "print('Recall Score:', metrics.recall_score(Y_test, predictions))\n",
    "print('F1 Score:', metrics.f1_score(Y_test, predictions))\n",
    "\n"
   ]
  },
  {
   "cell_type": "code",
   "execution_count": null,
   "metadata": {},
   "outputs": [],
   "source": [
    "from sklearn.metrics import roc_curve\n",
    "\n",
    "#decision_values = model.decision_function(X_test);\n",
    "probabilities = model.predict_proba(X_test)[:,1]\n",
    "\n",
    "#print('ROC-AUC Score from decision_function:', metrics.roc_auc_score(Y_test, decision_values))\n",
    "print('ROC-AUC Score from probablilities:', metrics.roc_auc_score(Y_test, probabilities))"
   ]
  },
  {
   "cell_type": "code",
   "execution_count": null,
   "metadata": {},
   "outputs": [],
   "source": [
    "fpr, tpr, thresholds = roc_curve(Y_test, probabilities)\n",
    "\n",
    "plt.plot(fpr,tpr)\n",
    "plt.show() \n",
    "\n",
    "print('AUC Score:', metrics.auc(fpr, tpr))\n",
    "print('')\n",
    "\n",
    "for i in range(len(thresholds)):\n",
    "    print(thresholds[i],tpr[i]-fpr[i])\n",
    "\n",
    "\n",
    "print('\\n Threshold with max tpr-fpr :', thresholds[np.argmax(tpr - fpr)])\n"
   ]
  },
  {
   "cell_type": "code",
   "execution_count": null,
   "metadata": {},
   "outputs": [],
   "source": [
    "decisions = (probabilities >= thresholds[np.argmax(tpr - fpr)]).astype(int)\n",
    "metrics.confusion_matrix(Y_test, decisions)"
   ]
  },
  {
   "cell_type": "code",
   "execution_count": null,
   "metadata": {},
   "outputs": [],
   "source": []
  }
 ],
 "metadata": {
  "kernelspec": {
   "display_name": "Python 3",
   "language": "python",
   "name": "python3"
  },
  "language_info": {
   "codemirror_mode": {
    "name": "ipython",
    "version": 3
   },
   "file_extension": ".py",
   "mimetype": "text/x-python",
   "name": "python",
   "nbconvert_exporter": "python",
   "pygments_lexer": "ipython3",
   "version": "3.7.2"
  }
 },
 "nbformat": 4,
 "nbformat_minor": 2
}
