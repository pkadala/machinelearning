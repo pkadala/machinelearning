{
 "cells": [
  {
   "cell_type": "code",
   "execution_count": 17,
   "metadata": {},
   "outputs": [
    {
     "name": "stdout",
     "output_type": "stream",
     "text": [
      "\n",
      "Count Vectorizer\n",
      "\n",
      "      blue  bright  color  day  sky  sun\n",
      "Doc1     1       0      1    1    2    0\n",
      "Doc2     0       1      0    0    0    1\n",
      "\n",
      "TD-IDF Vectorizer\n",
      "\n",
      "          blue    bright     color       day       sky       sun\n",
      "Doc1  0.377964  0.000000  0.377964  0.377964  0.755929  0.000000\n",
      "Doc2  0.000000  0.707107  0.000000  0.000000  0.000000  0.707107\n"
     ]
    }
   ],
   "source": [
    "# TfidfVectorizer \n",
    "# CountVectorizer\n",
    "from sklearn.feature_extraction.text import TfidfVectorizer,CountVectorizer\n",
    "import pandas as pd\n",
    "\n",
    "# set of documents\n",
    "train = ['The sky is blue in color on sky day.','The sun is bright.']\n",
    "\n",
    "# instantiate the vectorizer object\n",
    "countvectorizer = CountVectorizer(analyzer='word', stop_words='english')\n",
    "tfidfvectorizer = TfidfVectorizer(analyzer='word', stop_words='english')\n",
    "\n",
    "# convert th documents into a matrix\n",
    "count_v = countvectorizer.fit(train)\n",
    "count_wm = countvectorizer.transform(train)\n",
    "\n",
    "tfidf_v = tfidfvectorizer.fit(train)\n",
    "tfidf_wm = tfidfvectorizer.transform(train)\n",
    "\n",
    "#print(\"Count Vectorizer Vocabulary_\\n\")\n",
    "#print(count_v.vocabulary_)\n",
    "\n",
    "#print(\"\\nTfdif Vectorizer Vocabulary_\\n\")\n",
    "#print(tfidf_v.vocabulary_)\n",
    "\n",
    "#retrieve the terms found in the corpora\n",
    "# if we take same parameters on both Classes(CountVectorizer and TfidfVectorizer) , it will give same output of get_feature_names() methods)\n",
    "#count_tokens = tfidfvectorizer.get_feature_names() # no difference\n",
    "count_tokens = countvectorizer.get_feature_names()\n",
    "tfidf_tokens = tfidfvectorizer.get_feature_names()\n",
    "\n",
    "df_countvect = pd.DataFrame(data = count_wm.toarray(),index = ['Doc1','Doc2'],columns = count_tokens)\n",
    "df_tfidfvect = pd.DataFrame(data = tfidf_wm.toarray(),index = ['Doc1','Doc2'],columns = tfidf_tokens)\n",
    "\n",
    "print(\"\\nCount Vectorizer\\n\")\n",
    "print(df_countvect)\n",
    "print(\"\\nTD-IDF Vectorizer\\n\")\n",
    "print(df_tfidfvect)"
   ]
  },
  {
   "cell_type": "code",
   "execution_count": null,
   "metadata": {},
   "outputs": [],
   "source": []
  }
 ],
 "metadata": {
  "kernelspec": {
   "display_name": "Python 3",
   "language": "python",
   "name": "python3"
  },
  "language_info": {
   "codemirror_mode": {
    "name": "ipython",
    "version": 3
   },
   "file_extension": ".py",
   "mimetype": "text/x-python",
   "name": "python",
   "nbconvert_exporter": "python",
   "pygments_lexer": "ipython3",
   "version": "3.7.2"
  }
 },
 "nbformat": 4,
 "nbformat_minor": 2
}
