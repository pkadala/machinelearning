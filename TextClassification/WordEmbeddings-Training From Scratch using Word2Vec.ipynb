{
 "cells": [
  {
   "cell_type": "code",
   "execution_count": 91,
   "metadata": {},
   "outputs": [],
   "source": [
    "from gensim.models import Word2Vec"
   ]
  },
  {
   "cell_type": "markdown",
   "metadata": {},
   "source": [
    "size: (default 100) The number of dimensions of the embedding, e.g. the length of the dense vector to represent each token (word).\n",
    "window: (default 5) The maximum distance between a target word and words around the target word.\n",
    "min_count: (default 5) The minimum count of words to consider when training the model; words with an occurrence less than this count will be ignored.\n",
    "workers: (default 3) The number of threads to use while training.\n",
    "sg: (default 0 or CBOW) The training algorithm, either CBOW (0) or skip gram (1)."
   ]
  },
  {
   "cell_type": "code",
   "execution_count": 92,
   "metadata": {},
   "outputs": [
    {
     "name": "stderr",
     "output_type": "stream",
     "text": [
      "[nltk_data] Downloading package punkt to /Users/pkadala/nltk_data...\n",
      "[nltk_data]   Package punkt is already up-to-date!\n"
     ]
    },
    {
     "data": {
      "text/plain": [
       "[['mary', 'had', 'a', 'little', 'lamb'],\n",
       " ['his', 'fleece', 'was', 'white', 'as', 'snow'],\n",
       " ['and', 'everywhere', 'that', 'mary', 'went'],\n",
       " ['the', 'lamb', 'was', 'sure', 'to', 'go'],\n",
       " ['why', 'does', 'the', 'lamb', 'love', 'mary', 'so'],\n",
       " ['the', 'eager', 'children', 'cry'],\n",
       " ['why', 'mary', 'loves', 'the', 'lamb', 'you', 'know'],\n",
       " ['the', 'teacher', 'did', 'reply']]"
      ]
     },
     "execution_count": 92,
     "metadata": {},
     "output_type": "execute_result"
    }
   ],
   "source": [
    "from nltk import word_tokenize\n",
    "import nltk\n",
    "nltk.download('punkt')\n",
    "\n",
    "##### define training data\n",
    "\n",
    "mary = \"\"\"Mary had a little lamb\n",
    "His fleece was white as snow\n",
    "And everywhere that Mary went\n",
    "The lamb was sure to go\n",
    "Why does the lamb love Mary so\n",
    "The eager children cry\n",
    "Why Mary loves the lamb you know\n",
    "The teacher did reply\"\"\"\n",
    "\n",
    "sentences = [word_tokenize(s) for s in mary.lower().split('\\n')]\n",
    "sentences"
   ]
  },
  {
   "cell_type": "code",
   "execution_count": 99,
   "metadata": {},
   "outputs": [
    {
     "name": "stdout",
     "output_type": "stream",
     "text": [
      "Word2Vec(vocab=32, vector_size=100, alpha=0.025)\n"
     ]
    }
   ],
   "source": [
    "# train model\n",
    "model = Word2Vec(sentences, vector_size = 100, min_count=1)\n",
    "\n",
    "# summarize the loaded model\n",
    "print(model)"
   ]
  },
  {
   "cell_type": "code",
   "execution_count": 100,
   "metadata": {},
   "outputs": [
    {
     "name": "stdout",
     "output_type": "stream",
     "text": [
      "['the', 'lamb', 'mary', 'was', 'why', 'know', 'that', 'had', 'a', 'little', 'teacher', 'his', 'fleece', 'white', 'as', 'snow', 'and', 'everywhere', 'went', 'you', 'did', 'sure', 'to', 'go', 'does', 'love', 'so', 'eager', 'children', 'cry', 'loves', 'reply']\n",
      "[ 9.6387128e-05  3.0753405e-03 -6.8158815e-03 -1.3765404e-03\n",
      "  7.6704924e-03  7.3518157e-03 -3.6769798e-03  2.6391810e-03\n",
      " -8.3220862e-03  6.2075825e-03 -4.6390593e-03 -3.1616483e-03\n",
      "  9.3179969e-03  8.8215159e-04  7.4906321e-03 -6.0719377e-03\n",
      "  5.1680990e-03  9.9223955e-03 -8.4638726e-03 -5.1374687e-03\n",
      " -7.0684198e-03 -4.8602885e-03 -3.7778635e-03 -8.5349074e-03\n",
      "  7.9617267e-03 -4.8440672e-03  8.4244618e-03  5.2665453e-03\n",
      " -6.5462519e-03  3.9636442e-03  5.4699075e-03 -7.4256859e-03\n",
      " -7.4079875e-03 -2.4770331e-03 -8.6281272e-03 -1.5788795e-03\n",
      " -4.0587521e-04  3.2935438e-03  1.4434570e-03 -8.8479236e-04\n",
      " -5.5986042e-03  1.7367953e-03 -8.9377904e-04  6.7923465e-03\n",
      "  3.9770845e-03  4.5341789e-03  1.4261074e-03 -2.7009579e-03\n",
      " -4.3692943e-03 -1.0319398e-03  1.4368149e-03 -2.6462204e-03\n",
      " -7.0817587e-03 -7.8088548e-03 -9.1213966e-03 -5.9411344e-03\n",
      " -1.8485291e-03 -4.3196199e-03 -6.4578229e-03 -3.7198048e-03\n",
      "  4.2881374e-03 -3.7426134e-03  8.3767883e-03  1.5387047e-03\n",
      " -7.2442233e-03  9.4337873e-03  7.6314737e-03  5.4903137e-03\n",
      " -6.8513537e-03  5.8309981e-03  4.0113796e-03  5.1885759e-03\n",
      "  4.2539788e-03  1.9392942e-03 -3.1756661e-03  8.3487323e-03\n",
      "  9.6160602e-03  3.7926650e-03 -2.8399874e-03  1.1604057e-05\n",
      "  1.2169667e-03 -8.4617296e-03 -8.2269004e-03 -2.2934176e-04\n",
      "  1.2373389e-03 -5.7410202e-03 -4.7262567e-03 -7.3461179e-03\n",
      "  8.3269794e-03  1.2177009e-04 -4.5090634e-03  5.7046479e-03\n",
      "  9.1774883e-03 -4.0998412e-03  7.9598622e-03  5.3740353e-03\n",
      "  5.8805165e-03  5.0989486e-04  8.2177334e-03 -7.0139524e-03]\n",
      "[ 0.00179982  0.00704559  0.0029456  -0.00698069  0.00771357 -0.00598906\n",
      "  0.00899876  0.00295977 -0.00401549 -0.00468933 -0.00441752 -0.0061479\n",
      "  0.00937848 -0.00264933  0.00777257 -0.00968032  0.00210795 -0.00123338\n",
      "  0.00754404 -0.00905551  0.00743847 -0.0051055  -0.00601415 -0.00564937\n",
      " -0.00337941 -0.00340976 -0.00319562 -0.00749343  0.00070831 -0.00057674\n",
      " -0.001684    0.00375707 -0.00762064 -0.00322205  0.00515634  0.00854403\n",
      " -0.00980891  0.00719555  0.00530963 -0.00387933  0.00857626 -0.00922376\n",
      "  0.00724842  0.00536469  0.00129339 -0.00520026 -0.00417848 -0.00335681\n",
      "  0.00160917  0.00158602  0.00738787  0.00997647  0.0088676  -0.00400577\n",
      "  0.00964576 -0.00062775  0.00486627  0.00254849 -0.00062969  0.00366825\n",
      " -0.00531923 -0.00575753 -0.00760403  0.00190669  0.00652613  0.00088295\n",
      "  0.0012558   0.003172    0.00813444 -0.00770001  0.00226017 -0.00747439\n",
      "  0.00371041  0.00951053  0.00752009  0.00642559  0.0080145   0.00655121\n",
      "  0.00685703  0.00868129 -0.00494888  0.00921292  0.0050588  -0.00213088\n",
      "  0.0084871   0.00508174  0.00964887  0.00283225  0.00986771  0.00119624\n",
      "  0.00912951  0.00358704  0.00656568 -0.00361061  0.00679308  0.00724448\n",
      " -0.00213344 -0.00185982  0.00361038 -0.00703659]\n"
     ]
    }
   ],
   "source": [
    "# summarize vocabulary\n",
    "print(list(model.wv.index_to_key))\n",
    "\n",
    "# access vector for one word\n",
    "print(model.wv['mary'])\n",
    "print(model.wv['everywhere'])"
   ]
  },
  {
   "cell_type": "code",
   "execution_count": 101,
   "metadata": {},
   "outputs": [
    {
     "name": "stdout",
     "output_type": "stream",
     "text": [
      "Word2Vec(vocab=32, vector_size=100, alpha=0.025)\n"
     ]
    }
   ],
   "source": [
    "# save model\n",
    "model.save('model.bin')\n",
    "\n",
    "# load model\n",
    "new_model = Word2Vec.load('model.bin')\n",
    "print(new_model)"
   ]
  },
  {
   "cell_type": "code",
   "execution_count": 102,
   "metadata": {},
   "outputs": [
    {
     "data": {
      "image/png": "[encoded data removed]",
      "text/plain": [
       "<Figure size 432x288 with 1 Axes>"
      ]
     },
     "metadata": {
      "needs_background": "light"
     },
     "output_type": "display_data"
    }
   ],
   "source": [
    "from sklearn.decomposition import PCA\n",
    "from matplotlib import pyplot\n",
    "\n",
    "# fit a 2d PCA model to the vectors\n",
    "X = model.wv.get_normed_vectors()\n",
    "pca = PCA(n_components=2)\n",
    "result = pca.fit_transform(X)\n",
    "\n",
    "# create a scatter plot of the projection\n",
    "pyplot.scatter(result[:, 0], result[:, 1])\n",
    "words = list(model.wv.index_to_key)\n",
    "\n",
    "for i, word in enumerate(words):\n",
    "    pyplot.annotate(word, xy=(result[i, 0], result[i, 1]))\n",
    "pyplot.show()"
   ]
  },
  {
   "cell_type": "code",
   "execution_count": 103,
   "metadata": {},
   "outputs": [
    {
     "data": {
      "text/plain": [
       "[('fleece', 0.12813478708267212),\n",
       " ('his', 0.109392911195755),\n",
       " ('had', 0.10889007151126862),\n",
       " ('go', 0.10807981342077255),\n",
       " ('does', 0.10192397981882095),\n",
       " ('to', 0.09928765147924423),\n",
       " ('everywhere', 0.09614454954862595),\n",
       " ('you', 0.08630754798650742),\n",
       " ('the', 0.06285080313682556),\n",
       " ('that', 0.05048206076025963)]"
      ]
     },
     "execution_count": 103,
     "metadata": {},
     "output_type": "execute_result"
    }
   ],
   "source": [
    "model.wv.most_similar('teacher')"
   ]
  },
  {
   "cell_type": "code",
   "execution_count": null,
   "metadata": {},
   "outputs": [],
   "source": []
  }
 ],
 "metadata": {
  "kernelspec": {
   "display_name": "Python 3",
   "language": "python",
   "name": "python3"
  },
  "language_info": {
   "codemirror_mode": {
    "name": "ipython",
    "version": 3
   },
   "file_extension": ".py",
   "mimetype": "text/x-python",
   "name": "python",
   "nbconvert_exporter": "python",
   "pygments_lexer": "ipython3",
   "version": "3.7.2"
  }
 },
 "nbformat": 4,
 "nbformat_minor": 2
}
